{
 "cells": [
  {
   "cell_type": "code",
   "execution_count": 1,
   "metadata": {},
   "outputs": [],
   "source": [
    "import MultirefPredict\n",
    "import qcelemental"
   ]
  },
  {
   "cell_type": "code",
   "execution_count": 2,
   "metadata": {},
   "outputs": [],
   "source": [
    "input_dict = {\"xyzfile\": \"./water.xyz\",\n",
    "              \"molname\": \"water\",\n",
    "              \"charge\": 0,\n",
    "              \"spinmult\": 1,\n",
    "              \"rundir\": './B1_example_file_io',\n",
    "              \"program\": 'psi4',\n",
    "              \"record\": True}"
   ]
  },
  {
   "cell_type": "code",
   "execution_count": 3,
   "metadata": {},
   "outputs": [
    {
     "name": "stdout",
     "output_type": "stream",
     "text": [
      "kwargs: {'xyzfile': './water.xyz', 'molname': 'water', 'charge': 0, 'spinmult': 1, 'rundir': './B1_example_file_io', 'program': 'psi4', 'record': True, 'diagnostic_type': 'B1'}\n",
      "Compute B1 diagnostic of the given molecule:\n",
      "Trying to determine the dissociation limit of the molecule\n",
      "\n",
      "Dissociation limit of the molecule:\n",
      "------------------------------\n",
      "Atom   Count    Charge   spin    \n",
      "------------------------------\n",
      "  O       1       0.0       3    \n",
      "  H       2       0.0       2    \n",
      "------------------------------\n",
      "\n",
      "Calculate atomization energy with method:  blyp\n",
      "Evaluating the energy of the whole molecule...\n",
      "Final energy of the molecule (Hartree): -76.36645993\n",
      "Evaluating the energy of the atomization limit of the molecule...\n",
      "Final energy of atom  O  (Hartree): -75.04456340\n",
      "Final energy of atom  H  (Hartree): -0.49544692\n",
      "Final energy of the atomized limit (Hartree): -76.03545724\n",
      "Atomization energy (Hartree): 0.33100269\n",
      "\n",
      "\n",
      "Calculate atomization energy with method:  b1lyp\n",
      "Evaluating the energy of the whole molecule...\n",
      "Final energy of the molecule (Hartree): -76.35352874\n",
      "Evaluating the energy of the atomization limit of the molecule...\n",
      "Final energy of atom  O  (Hartree): -75.04291669\n",
      "Final energy of atom  H  (Hartree): -0.49613954\n",
      "Final energy of the atomized limit (Hartree): -76.03519577\n",
      "Atomization energy (Hartree): 0.31833296\n",
      "\n",
      "Number of bonds in the molecule:  2\n",
      "\n",
      "B1 DIAGNOSTICS: 0.006\n"
     ]
    }
   ],
   "source": [
    "b1 = MultirefPredict.diagnostic_factory(\"B1\", **input_dict).computeDiagnostic()"
   ]
  },
  {
   "cell_type": "code",
   "execution_count": null,
   "metadata": {},
   "outputs": [],
   "source": [
    "C0 = MultirefPredict.diagnostic_factory(\"C0\", xyzfile=\"./O.xyz\", molname=\"Oxygen_atom\", \n",
    "                                        charge=0, spinmult=3, rundir='./C0_example_file_io', \n",
    "                                        program='psi4', record=True).computeDiagnostic()"
   ]
  },
  {
   "cell_type": "code",
   "execution_count": null,
   "metadata": {},
   "outputs": [],
   "source": []
  }
 ],
 "metadata": {
  "kernelspec": {
   "display_name": "qcengine",
   "language": "python",
   "name": "qcengine"
  },
  "language_info": {
   "codemirror_mode": {
    "name": "ipython",
    "version": 3
   },
   "file_extension": ".py",
   "mimetype": "text/x-python",
   "name": "python",
   "nbconvert_exporter": "python",
   "pygments_lexer": "ipython3",
   "version": "3.6.8"
  }
 },
 "nbformat": 4,
 "nbformat_minor": 2
}
